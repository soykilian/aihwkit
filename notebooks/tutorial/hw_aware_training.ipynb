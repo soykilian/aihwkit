{
 "cells": [
  {
   "cell_type": "markdown",
   "metadata": {
    "id": "3S0YWetZ-a2m"
   },
   "source": [
    "# IBM Analog Hardware Acceleration Kit (AIHWKIT): Hardware-aware Training for Accurate Inference on Analog Hardware\n",
    "\n",
    "### Authors: [Julian Büchel](https://www.linkedin.com/in/julian-büchel-0673991a3/), [Manuel Le Gallo-Bourdeau](https://research.ibm.com/people/manuel-le-gallo-bourdeau), and [Kaoutar El Maghraoui](https://www.linkedin.com/in/kaoutar-el-maghraoui/)\n",
    "\n",
    "\n",
    "\n",
    "<a href=\"https://colab.research.google.com/github/IBM/aihwkit/blob/master/notebooks/tutorial/hw_aware_training.ipynb\" target=\"_parent\">\n",
    "    <img src=\"https://colab.research.google.com/assets/colab-badge.svg\"/>\n",
    "</a>\n",
    "\n",
    "The IBM Analog Hardware Acceleration Kit (AIHWKIT) is an open-source Python toolkit for exploring and using the capabilities of in-memory computing devices (PCM, RRAM and others) in the context of artificial intelligence. The PyTorch integration consists of a series of primitives and features that allow using the toolkit within PyTorch.\n",
    "The GitHub repository can be found at: https://github.com/IBM/aihwkit\n",
    "To learn more about Analog AI and the harware befind it, refer to this webpage: https://aihw-composer.draco.res.ibm.com/about\n",
    "\n",
    "### Installing AIHWKIT\n",
    "\n",
    "The first thing to do is install AIHWKIT and dependencies in your environment. The preferred way to install this package is by using the Python package index (please uncomment this line to install in your environment if not previously installed):"
   ]
  },
  {
   "cell_type": "code",
   "execution_count": 1,
   "metadata": {
    "colab": {
     "base_uri": "https://localhost:8080/"
    },
    "id": "GEfolvgr-HSO",
    "outputId": "929673f8-7bf4-45f8-94f5-4ac82f97e82b"
   },
   "outputs": [],
   "source": [
    "# To install the cpu-only enabled kit, un-comment the line below\n",
    "# %pip install aihwkit\n",
    "\n",
    "# To install the GPU-enabled wheel go to https://aihwkit.readthedocs.io/en/latest/advanced_install.html#install-the-aihwkit-using-pip\n",
    "# and copy the option on GPU options that best suits your enviroment and paste it below and run the cell. For example, Python 3.10 and CUDA 12.1:\n",
    "# !wget https://aihwkit-gpu-demo.s3.us-east.cloud-object-storage.appdomain.cloud/aihwkit-0.9.2+cuda121-cp310-cp310-manylinux_2_17_x86_64.manylinux2014_x86_64.whl\n",
    "# %pip install aihwkit-0.9.2+cuda121-cp310-cp310-manylinux_2_17_x86_64.manylinux2014_x86_64.whl\n"
   ]
  },
  {
   "cell_type": "markdown",
   "metadata": {
    "id": "05XKOcQdoWis"
   },
   "source": [
    "Upload the utils directory in your runtime environment if you are using Google Colab."
   ]
  },
  {
   "cell_type": "code",
   "execution_count": 1,
   "metadata": {
    "cellView": "form",
    "id": "8dRBAFI2xcEK",
    "tags": [
     "hide-input"
    ]
   },
   "outputs": [],
   "source": [
    "# various utility functions\n",
    "\n",
    "import torch\n",
    "import torch.nn.functional as F\n",
    "import torch.nn.init as init\n",
    "import torchvision\n",
    "import numpy as np\n",
    "\n",
    "device = torch.device(\"cuda\" if torch.cuda.is_available() else \"cpu\")\n",
    "\n",
    "\n",
    "def _weights_init(m):\n",
    "    if isinstance(m, torch.nn.Linear) or isinstance(m, torch.nn.Conv2d):\n",
    "        init.kaiming_normal_(m.weight)\n",
    "\n",
    "\n",
    "class LambdaLayer(torch.nn.Module):\n",
    "    def __init__(self, lambd):\n",
    "        super(LambdaLayer, self).__init__()\n",
    "        self.lambd = lambd\n",
    "\n",
    "    def forward(self, x):\n",
    "        return self.lambd(x)\n",
    "\n",
    "\n",
    "class BasicBlock(torch.nn.Module):\n",
    "    expansion = 1\n",
    "\n",
    "    def __init__(self, in_planes, planes, stride=1, option=\"A\"):\n",
    "        super(BasicBlock, self).__init__()\n",
    "        self.conv1 = torch.nn.Conv2d(\n",
    "            in_planes, planes, kernel_size=3, stride=stride, padding=1, bias=False\n",
    "        )\n",
    "        self.bn1 = torch.nn.BatchNorm2d(planes)\n",
    "        self.conv2 = torch.nn.Conv2d(\n",
    "            planes, planes, kernel_size=3, stride=1, padding=1, bias=False\n",
    "        )\n",
    "        self.bn2 = torch.nn.BatchNorm2d(planes)\n",
    "\n",
    "        self.shortcut = torch.nn.Sequential()\n",
    "        if stride != 1 or in_planes != planes:\n",
    "            if option == \"A\":\n",
    "                \"\"\"\n",
    "                For CIFAR10 ResNet paper uses option A.\n",
    "                \"\"\"\n",
    "                self.shortcut = LambdaLayer(\n",
    "                    lambda x: F.pad(\n",
    "                        x[:, :, ::2, ::2],\n",
    "                        (0, 0, 0, 0, planes // 4, planes // 4),\n",
    "                        \"constant\",\n",
    "                        0,\n",
    "                    )\n",
    "                )\n",
    "            elif option == \"B\":\n",
    "                self.shortcut = torch.nn.Sequential(\n",
    "                    torch.nn.Conv2d(\n",
    "                        in_planes,\n",
    "                        self.expansion * planes,\n",
    "                        kernel_size=1,\n",
    "                        stride=stride,\n",
    "                        bias=False,\n",
    "                    ),\n",
    "                    torch.nn.BatchNorm2d(self.expansion * planes),\n",
    "                )\n",
    "\n",
    "    def forward(self, x):\n",
    "        out = F.relu(self.bn1(self.conv1(x)))\n",
    "        out = self.bn2(self.conv2(out))\n",
    "        out += self.shortcut(x)\n",
    "        out = F.relu(out)\n",
    "        return out\n",
    "\n",
    "\n",
    "class ResNet(torch.nn.Module):\n",
    "    def __init__(self, block, num_blocks, n_classes=10):\n",
    "        super(ResNet, self).__init__()\n",
    "        self.in_planes = 16\n",
    "\n",
    "        self.conv1 = torch.nn.Conv2d(\n",
    "            3, 16, kernel_size=3, stride=1, padding=1, bias=False\n",
    "        )\n",
    "        self.bn1 = torch.nn.BatchNorm2d(16)\n",
    "        self.layer1 = self._make_layer(block, 16, num_blocks[0], stride=1)\n",
    "        self.layer2 = self._make_layer(block, 32, num_blocks[1], stride=2)\n",
    "        self.layer3 = self._make_layer(block, 64, num_blocks[2], stride=2)\n",
    "        self.linear = torch.nn.Linear(64, n_classes)\n",
    "\n",
    "        self.apply(_weights_init)\n",
    "\n",
    "    def _make_layer(self, block, planes, num_blocks, stride):\n",
    "        strides = [stride] + [1] * (num_blocks - 1)\n",
    "        layers = []\n",
    "        for stride in strides:\n",
    "            layers.append(block(self.in_planes, planes, stride))\n",
    "            self.in_planes = planes * block.expansion\n",
    "\n",
    "        return torch.nn.Sequential(*layers)\n",
    "\n",
    "    def forward(self, x):\n",
    "        out = F.relu(self.bn1(self.conv1(x)))\n",
    "        out = self.layer1(out)\n",
    "        out = self.layer2(out)\n",
    "        out = self.layer3(out)\n",
    "        out = F.avg_pool2d(out, out.size()[3])\n",
    "        out = out.view(out.size(0), -1)\n",
    "        out = self.linear(out)\n",
    "        return out\n",
    "\n",
    "\n",
    "def resnet32(n_classes=10):\n",
    "    return ResNet(BasicBlock, [5, 5, 5], n_classes=n_classes)\n",
    "\n",
    "\n",
    "class TorchCutout(object):\n",
    "    def __init__(self, length, fill=(0.0, 0.0, 0.0)):\n",
    "        self.length = length\n",
    "        self.fill = torch.tensor(fill).reshape(shape=(3, 1, 1))\n",
    "\n",
    "    def __call__(self, img):\n",
    "        h = img.size(1)\n",
    "        w = img.size(2)\n",
    "        y = np.random.randint(h)\n",
    "        x = np.random.randint(w)\n",
    "        y1 = np.clip(y - self.length // 2, 0, h)\n",
    "        y2 = np.clip(y + self.length // 2, 0, h)\n",
    "        x1 = np.clip(x - self.length // 2, 0, w)\n",
    "        x2 = np.clip(x + self.length // 2, 0, w)\n",
    "        img[:, y1:y2, x1:x2] = self.fill\n",
    "        return img\n",
    "\n",
    "\n",
    "# Load dataset\n",
    "def load_cifar10(batch_size, path):\n",
    "    transform_train = torchvision.transforms.Compose(\n",
    "        [\n",
    "            torchvision.transforms.RandomCrop(32, padding=4),\n",
    "            torchvision.transforms.RandomHorizontalFlip(),\n",
    "            torchvision.transforms.ToTensor(),\n",
    "            torchvision.transforms.Normalize(\n",
    "                (0.4914, 0.4822, 0.4465), (0.2023, 0.1994, 0.2010)\n",
    "            ),\n",
    "            TorchCutout(length=8),\n",
    "        ]\n",
    "    )\n",
    "\n",
    "    transform_test = torchvision.transforms.Compose(\n",
    "        [\n",
    "            torchvision.transforms.ToTensor(),\n",
    "            torchvision.transforms.Normalize(\n",
    "                (0.4914, 0.4822, 0.4465), (0.2023, 0.1994, 0.2010)\n",
    "            ),\n",
    "        ]\n",
    "    )\n",
    "\n",
    "    trainset = torchvision.datasets.CIFAR10(\n",
    "        root=path, train=True, download=True, transform=transform_train\n",
    "    )\n",
    "    testset = torchvision.datasets.CIFAR10(\n",
    "        root=path, train=False, download=True, transform=transform_test\n",
    "    )\n",
    "    trainloader = torch.utils.data.DataLoader(\n",
    "        trainset, batch_size=batch_size, shuffle=True, num_workers=1\n",
    "    )\n",
    "    testloader = torch.utils.data.DataLoader(\n",
    "        testset, batch_size=batch_size, shuffle=False, num_workers=1\n",
    "    )\n",
    "\n",
    "    return trainloader, testloader\n"
   ]
  },
  {
   "cell_type": "code",
   "execution_count": 4,
   "metadata": {},
   "outputs": [
    {
     "name": "stderr",
     "output_type": "stream",
     "text": [
      "/tmp/ipykernel_2114837/3261810915.py:1: FutureWarning: You are using `torch.load` with `weights_only=False` (the current default value), which uses the default pickle module implicitly. It is possible to construct malicious pickle data which will execute arbitrary code during unpickling (See https://github.com/pytorch/pytorch/blob/main/SECURITY.md#untrusted-models for more details). In a future release, the default value for `weights_only` will be flipped to `True`. This limits the functions that could be executed during unpickling. Arbitrary objects will no longer be allowed to be loaded via this mode unless they are explicitly allowlisted by the user via `torch.serialization.add_safe_globals`. We recommend you start setting `weights_only=True` for any use case where you don't have full control of the loaded file. Please open an issue on GitHub for any issues related to this experimental feature.\n",
      "  torch.load(\"./resnet_baseline_drift.th\")\n"
     ]
    },
    {
     "data": {
      "text/plain": [
       "tensor([[91.4420],\n",
       "        [91.2600],\n",
       "        [10.4760],\n",
       "        [10.4500],\n",
       "        [10.0720]])"
      ]
     },
     "execution_count": 4,
     "metadata": {},
     "output_type": "execute_result"
    }
   ],
   "source": [
    "torch.load(\"./resnet_baseline_drift.th\")"
   ]
  },
  {
   "cell_type": "code",
   "execution_count": 11,
   "metadata": {},
   "outputs": [
    {
     "data": {
      "text/plain": [
       "array([[91.84000396728516, 91.80599975585938, 10.374000549316406,\n",
       "        10.243999481201172, 10.333999633789062],\n",
       "       [92.406005859375, 92.37799835205078, 69.79000091552734,\n",
       "        40.507999420166016, 14.311999320983887],\n",
       "       [92.2719955444336, 92.40800476074219, 92.28799438476562,\n",
       "        92.30799865722656, 92.197998046875]], dtype=object)"
      ]
     },
     "execution_count": 11,
     "metadata": {},
     "output_type": "execute_result"
    }
   ],
   "source": [
    "import numpy\n",
    "numpy.load(\"AccuracyVSTime_ResNET_HWA.npy\", allow_pickle=True)"
   ]
  },
  {
   "cell_type": "code",
   "execution_count": 25,
   "metadata": {
    "id": "9m1qDEsd-C4H"
   },
   "outputs": [],
   "source": [
    "\n",
    "\n",
    "# - Generic imports\n",
    "import torch\n",
    "import numpy as np\n",
    "from tqdm import tqdm\n",
    "\n",
    "# - AIHWKIT related imports\n",
    "from aihwkit.nn.conversion import convert_to_analog\n",
    "from aihwkit.optim import AnalogSGD\n",
    "from aihwkit.simulator.presets.utils import IOParameters\n",
    "\n",
    "from aihwkit.simulator.parameters.io import IOParametersIRDropT\n",
    "from aihwkit.inference.noise.pcm import PCMLikeNoiseModel\n",
    "from aihwkit.inference import ReRamCMONoiseModel\n",
    "from aihwkit.inference.compensation.drift import GlobalDriftCompensation\n",
    "from aihwkit.simulator.configs import InferenceRPUConfig\n",
    "from aihwkit.simulator.configs.utils import (\n",
    "    WeightModifierType,\n",
    "    BoundManagementType,\n",
    "    WeightClipType,\n",
    "    NoiseManagementType,\n",
    "    WeightRemapType,\n",
    ")"
   ]
  },
  {
   "cell_type": "markdown",
   "metadata": {
    "id": "hJpJeStD-C4M"
   },
   "source": [
    "## RPU Config\n",
    "The RPU configuration specifies the parameters necessary for hardware-aware training. The `InferenceRPUConfig` comes with default settings, which are typically changed after initialization. Note that this determines the tile backend used. `InferenceRPUConfig` uses the CUDA implementation of the tile, while `TorchInferenceRPUConfig` uses a pure torch based approach. Using the CUDA tile is typically faster if convolutions are used because it supports an indexed implementation, while the torch-based implementation treats a convolution as a linear operation by unfolding the input, which is typically slow.\n",
    "\n",
    "### `rpu_config.modifier`\n",
    "The modifier injects noise into the weights for each batch during training. The type of the noise can be set by `rpu_config.modifier.type`. In this case, we use additive Gaussian noise, which works well. The additive Gaussian noise is applied to the weights on the tile, which are normalized to [-1,1] in our case (more about that in `rpu_config.mapping`). Since the weights are normalized, the magnitude `rpu_config.modifier.std_dev` corresponds to the percent of noise relative to the weights. In this case, we apply 6% noise.\n",
    "\n",
    "### `rpu_config.mapping`\n",
    "We can also put the bias in analog by setting `rpu_config.mapping.digital_bias`, which we don't do since the bias is implemented in digital on most hardware. The following parameters relate to how the weights are normalized to the default range [-1,1]. `rpu_config.mapping.weight_scaling_omega=1.0` initially sets the weight scale to the `abs().max()` of the weight. `WeightRemapType.LAYERWISE_SYMMETRIC` ensures that each weight gets remapped to [-1,1] after every weight update.\n",
    "\n",
    "### `rpu_config.clip`\n",
    "Tight weight distributions are important when we map the weights to conductance values. This can be ensured by specifying `rpu_config.clip.type`. In this case, we clip each weight after every batch update around `rpu_config.clip.sigma` many standard deviations of the weights. I.e. `w = w.clamp(-a*w.std(),a*w.std())`.\n",
    "\n",
    "### `rpu_config.forward`\n",
    "This part of the RPU config determines the non-idealities at a tile level, e.g., output noise, short-term weight noise, quantization, etc. In this case, we set the DAC and ADC resolution to 8 bits and the input bound to 1.0. This has the effect that the inputs are mapped to [-1,1] and quantized to 8 bits. The output bound is set to 12.0. Note that all of the non-idealities of the forward pass can be turned off by setting `rpu_config.forward.is_perfect=True`. This also has the effect of faster runtime since we can take a shortcut in the MVM computation. The bound management typically manages the input scale when there appears clipping at the ADC. We can, for example, configure it so that the input is reduced until no clipping at the ADCs occurs. We set it to None in this case. The noise management determines how the inputs are mapped to the input bound (here set to 1.0). If the noise management is set to `ABS_MAX`, we dynamically compute the `abs().max()` of the input and use this to normalize the input. If the input ranges are learned, set this to `NONE`.\n",
    "\n",
    "### `rpu_config.pre_post.input_range`\n",
    "Analog and digital accelerators typically quantize their MVM inputs by multiplying them by a scalar that maps the values to a specific range (e.g., for int8 this scale would be 127. / `input_range of input`). We can learn the input range parameter by setting `rpu_config.pre_post.input_range.enable=True`. We can calibrate the initial input range from data by setting `rpu_config.pre_post.input_range.init_from_data` to the number of batches we would like to use for this calibration. In this case, 3.0 standard deviations are taken from the batch to update the input range learning. After 50 seen batches, the input ranges are updated from gradients. Generally, the input ranges are widened after initialization. When less than `1-rpu_config.pre_post.input_range.input_min_percentage` percent of the inputs are clipped when the current input range is used, the input range is shrunk with a rate proportional to `rpu_config.pre_post.input_range.decay`. In other words, when the input range is too loose (i.e., no inputs are clipped), we shrink it again. Increasing the decay increases the speed with which we shrink it.\n",
    "\n",
    "Finally, we set the `noise_model` used for inference. This `noise_model` determines, for example, what type of programming noise is applied when we program the device. We can also simulate drift and even drift compensation. The compensation method can be set by `rpu_config.drift_compensation`. Here we use global drift compensation, which uses a reference input to determine the optimal scale that needs to be applied to the outputs in order to compensate for the drifted weights.\n"
   ]
  },
  {
   "cell_type": "code",
   "execution_count": 14,
   "metadata": {
    "id": "DHmjiuKn-C4O"
   },
   "outputs": [],
   "source": [
    "input_prec = 36\n",
    "output_prec = 8\n",
    "wire = 0.35\n",
    "def gen_rpu_config():\n",
    "    rpu_config = InferenceRPUConfig()\n",
    "    rpu_config.modifier.std_dev = 0.06\n",
    "    rpu_config.modifier.type = WeightModifierType.ADD_NORMAL\n",
    "\n",
    "    rpu_config.mapping.digital_bias = True\n",
    "    rpu_config.mapping.weight_scaling_omega = 1.0\n",
    "    rpu_config.mapping.weight_scaling_columnwise = False\n",
    "    rpu_config.mapping.out_scaling_columnwise = False\n",
    "    rpu_config.remap.type = WeightRemapType.LAYERWISE_SYMMETRIC\n",
    "    rpu_config.mapping.max_input_size = 256\n",
    "    rpu_config.mapping.max_output_size = 256\n",
    "    rpu_config.clip.type = WeightClipType.LAYER_GAUSSIAN\n",
    "    rpu_config.clip.sigma = 2.0\n",
    "\n",
    "    rpu_config.forward = IOParametersIRDropT()\n",
    "    rpu_config.forward.is_perfect = False\n",
    "    rpu_config.forward.out_noise = 0.04\n",
    "    rpu_config.forward.inp_bound = 1.0\n",
    "    rpu_config.forward.inp_res = 1 / (2**input_prec - 2)\n",
    "    rpu_config.forward.out_bound = 10\n",
    "    rpu_config.forward.out_res = 1 / (2**input_prec - 2)\n",
    "    rpu_config.forward.bound_management = BoundManagementType.NONE\n",
    "    rpu_config.forward.noise_management = NoiseManagementType.ABS_MAX\n",
    "    rpu_config.forward.ir_drop_g_ratio = 1.0 / wire / 88e-6\n",
    "    rpu_config.forward.ir_drop = 1.0\n",
    "    rpu_config.forward.ir_drop_rs = wire\n",
    "\n",
    "    rpu_config.pre_post.input_range.enable = True\n",
    "    rpu_config.pre_post.input_range.decay = 0.01\n",
    "    rpu_config.pre_post.input_range.init_from_data = 50\n",
    "    rpu_config.pre_post.input_range.init_std_alpha = 3.0\n",
    "    rpu_config.pre_post.input_range.input_min_percentage = 0.995\n",
    "    rpu_config.pre_post.input_range.manage_output_clipping = False\n",
    "\n",
    "    rpu_config.noise_model = PCMLikeNoiseModel(g_max=25.0)\n",
    "    rpu_config.drift_compensation = None\n",
    "    #rpu_config.noise_model = ReRamCMONoiseModel(g_max=88.19, g_min=9.0, acceptance_range=2.0)\n",
    "    #rpu_config.drift_compensation = None\n",
    "    return rpu_config"
   ]
  },
  {
   "cell_type": "code",
   "execution_count": 26,
   "metadata": {},
   "outputs": [],
   "source": [
    "input_prec = 6\n",
    "output_prec = 8\n",
    "wire = 0.35\n",
    "PCM = False\n",
    "def gen_rpu_config(noise_model):\n",
    "    my_rpu_config = InferenceRPUConfig()\n",
    "    my_rpu_config.modifier.std_dev = 0.06\n",
    "    my_rpu_config.modifier.type = WeightModifierType.ADD_NORMAL\n",
    "    my_rpu_config.mapping.max_input_size = 256\n",
    "    my_rpu_config.mapping.max_output_size = 256\n",
    "    my_rpu_config.mapping.digital_bias = True\n",
    "    my_rpu_config.mapping.weight_scaling_omega = 1.0\n",
    "    my_rpu_config.mapping.weight_scaling_columnwise = False\n",
    "    my_rpu_config.mapping.out_scaling_columnwise = False\n",
    "    my_rpu_config.remap.type = WeightRemapType.LAYERWISE_SYMMETRIC\n",
    "    my_rpu_config.clip.type = WeightClipType.LAYER_GAUSSIAN\n",
    "    my_rpu_config.clip.sigma = 2.0\n",
    "    my_rpu_config.forward = IOParametersIRDropT()\n",
    "    my_rpu_config.forward.is_perfect = False\n",
    "    if PCM:\n",
    "        my_rpu_config.noise_model = PCMLikeNoiseModel(g_max=25.0)\n",
    "        my_rpu_config.drift_compensation = None\n",
    "        my_rpu_config.forward.ir_drop_g_ratio = 1.0 / 0.35 / 25e-6 # change to 25w-6 when using PCM\n",
    "    else:\n",
    "        my_rpu_config.noise_model = noise_model \n",
    "        my_rpu_config.drift_compensation = None # by default is GlobalCompensation from PCM\n",
    "        my_rpu_config.forward.ir_drop_g_ratio = 1.0 / 0.35 / 88e-6 # change to 25w-6 when using PCM\n",
    "\n",
    "    #my_rpu_config.drift_compensation = None\n",
    "    \n",
    "    my_rpu_config.modifier.std_dev = 0.06\n",
    "    my_rpu_config.modifier.type = WeightModifierType.ADD_NORMAL\n",
    "\n",
    "    \n",
    "    my_rpu_config.forward.inp_res = 1 / (2**input_prec - 2)\n",
    "    my_rpu_config.forward.out_res = 1 / (2**output_prec - 2)\n",
    "    #my_rpu_config.forward.out_res = -1\n",
    "    #my_rpu_config.forward.inp_res = -1\n",
    "    my_rpu_config.forward.out_noise = 0.06 # Output on the current addition (?)\n",
    "    my_rpu_config.forward.ir_drop = 1.0 # TODO set to 1.0 when activating IR drop effects\n",
    "    my_rpu_config.forward.ir_drop_rs = 0.35 # Default: 0.15\n",
    "    #my_rpu_config.forward.noise_management = NoiseManagementType.ABS_MAX # Rescale back the output with the scaling for normalizing the input\n",
    "    #my_rpu_config.forward.bound_management = BoundManagementType.NONE # No learning of the ranges\n",
    "    \n",
    "    #my_rpu_config.forward.out_bound = 20.0  # quite restrictive\n",
    "    my_rpu_config.pre_post.input_range.enable = True\n",
    "    my_rpu_config.pre_post.input_range.decay = 0.01\n",
    "    my_rpu_config.pre_post.input_range.init_from_data = 50\n",
    "    my_rpu_config.pre_post.input_range.init_std_alpha = 3.0\n",
    "    my_rpu_config.pre_post.input_range.input_min_percentage = 0.995\n",
    "    my_rpu_config.pre_post.input_range.manage_output_clipping = False\n",
    "    return my_rpu_config"
   ]
  },
  {
   "cell_type": "code",
   "execution_count": 27,
   "metadata": {
    "id": "6_She6Vv-C4P"
   },
   "outputs": [],
   "source": [
    "# - Standard train and test routines\n",
    "def train_step(model, optimizer, criterion, trainloader):\n",
    "    model.train()\n",
    "    train_loss = 0\n",
    "    correct = 0\n",
    "    total = 0\n",
    "\n",
    "    for inputs, targets in trainloader:\n",
    "        inputs, targets = inputs.to(device), targets.to(device)\n",
    "        optimizer.zero_grad()\n",
    "        outputs = model(inputs)\n",
    "\n",
    "        loss = criterion(outputs, targets)\n",
    "        loss.backward()\n",
    "        optimizer.step()\n",
    "\n",
    "        train_loss += loss.item()\n",
    "        _, predicted = outputs.max(1)\n",
    "        total += targets.size(0)\n",
    "        correct += predicted.eq(targets).sum().item()\n",
    "\n",
    "    return train_loss / total, 100.0 * correct / total\n",
    "\n",
    "\n",
    "def test_step(model, criterion, testloader):\n",
    "    model.eval()\n",
    "    test_loss = 0\n",
    "    correct = 0\n",
    "    total = 0\n",
    "    with torch.no_grad():\n",
    "        for inputs, targets in testloader:\n",
    "            inputs, targets = inputs.to(device), targets.to(device)\n",
    "            outputs = model(inputs)\n",
    "            loss = criterion(outputs, targets)\n",
    "            test_loss += loss.item()\n",
    "            _, predicted = outputs.max(1)\n",
    "            total += targets.size(0)\n",
    "            correct += predicted.eq(targets).sum().item()\n",
    "    print(f\"Test loss {test_loss/total:.4f} test acc. {100.*correct/total:.2f}%\")\n",
    "    return 100.0 * correct / total"
   ]
  },
  {
   "cell_type": "code",
   "execution_count": 28,
   "metadata": {
    "colab": {
     "base_uri": "https://localhost:8080/"
    },
    "id": "P0-82vyr-C4Q",
    "outputId": "05431c47-efa4-4ea6-e759-5e3b5b93f66b"
   },
   "outputs": [
    {
     "name": "stdout",
     "output_type": "stream",
     "text": [
      "Files already downloaded and verified\n",
      "Files already downloaded and verified\n"
     ]
    }
   ],
   "source": [
    "# - Set seeds\n",
    "torch.manual_seed(0)\n",
    "np.random.seed(0)\n",
    "import os\n",
    "# - Get the dataloader\n",
    "batch_size = 128\n",
    "trainloader, testloader = load_cifar10(\n",
    "    batch_size=batch_size, path=os.path.expanduser(\"~/Data/\")\n",
    ")\n",
    "\n",
    "# - Change to True if one of the models should be re-trained\n",
    "retrain_baseline = False\n",
    "retrain_finetuned_model = True\n",
    "\n",
    "# - Some hyperparameters\n",
    "lr = 0.05\n",
    "epochs = 200\n",
    "epochs_finetuning = 100"
   ]
  },
  {
   "cell_type": "code",
   "execution_count": 29,
   "metadata": {
    "id": "aG-rrTt5-C4R"
   },
   "outputs": [],
   "source": [
    "# - Define model, criterion, optimizer and scheduler.\n",
    "model = resnet32()\n",
    "model = model.to(device)\n",
    "criterion = torch.nn.CrossEntropyLoss()\n",
    "optimizer = torch.optim.SGD(model.parameters(), lr=lr, momentum=0.9, weight_decay=5e-4)\n",
    "scheduler = torch.optim.lr_scheduler.CosineAnnealingLR(optimizer, T_max=epochs)"
   ]
  },
  {
   "cell_type": "markdown",
   "metadata": {
    "id": "LD4Y2wot-C4R"
   },
   "source": [
    "We typically first pre-train a baseline model that we later fine-tune using noise injection."
   ]
  },
  {
   "cell_type": "code",
   "execution_count": 30,
   "metadata": {
    "colab": {
     "base_uri": "https://localhost:8080/"
    },
    "id": "L_Cvn56G-C4R",
    "outputId": "bd54f7a1-a836-4b27-b627-eb18b524dd14"
   },
   "outputs": [
    {
     "name": "stderr",
     "output_type": "stream",
     "text": [
      "/tmp/ipykernel_2111725/3910390277.py:20: FutureWarning: You are using `torch.load` with `weights_only=False` (the current default value), which uses the default pickle module implicitly. It is possible to construct malicious pickle data which will execute arbitrary code during unpickling (See https://github.com/pytorch/pytorch/blob/main/SECURITY.md#untrusted-models for more details). In a future release, the default value for `weights_only` will be flipped to `True`. This limits the functions that could be executed during unpickling. Arbitrary objects will no longer be allowed to be loaded via this mode unless they are explicitly allowlisted by the user via `torch.serialization.add_safe_globals`. We recommend you start setting `weights_only=True` for any use case where you don't have full control of the loaded file. Please open an issue on GitHub for any issues related to this experimental feature.\n",
      "  model.load_state_dict(torch.load(\"Models/pre_trained_resnet.th\", map_location=device))\n"
     ]
    },
    {
     "name": "stdout",
     "output_type": "stream",
     "text": [
      "Test loss 0.0016 test acc. 94.12%\n",
      "Pretrained test acc. 94.12%\n"
     ]
    }
   ],
   "source": [
    "# - Pre-training of the network\n",
    "import os\n",
    "if not os.path.exists(\"Models\"):\n",
    "    os.makedirs(\"Models\")\n",
    "if retrain_baseline:\n",
    "    pbar = tqdm(range(epochs))\n",
    "    for epoch in pbar:\n",
    "        train_loss, train_acc = train_step(model, optimizer, criterion, trainloader)\n",
    "        pbar.set_description(f\"Epoch {epoch} Train loss: {train_loss:.4f} train acc. {train_acc:.2f}%\")\n",
    "        if epoch % 5 == 0:\n",
    "            test_step(model, criterion, testloader)\n",
    "        scheduler.step()\n",
    "    torch.save(model.state_dict(), \"Models/pre_trained_model.th\")\n",
    "else:\n",
    "    import requests\n",
    "    url = 'https://aihwkit-tutorial.s3.us-east.cloud-object-storage.appdomain.cloud/pre_trained_model.th'\n",
    "    response = requests.get(url)\n",
    "    with open('Models/pre_trained_resnet.th', 'wb') as f:\n",
    "        f.write(response.content)\n",
    "    model.load_state_dict(torch.load(\"Models/pre_trained_resnet.th\", map_location=device))\n",
    "    print(f\"Pretrained test acc. {test_step(model, criterion, testloader)}%\")"
   ]
  },
  {
   "cell_type": "code",
   "execution_count": null,
   "metadata": {},
   "outputs": [],
   "source": [
    "#\"mean\": [-0.08900206],\n",
    "import matplotlib.pyplot as plt\n",
    "noise_model = ReRamCMONoiseModel(g_max=88.19,\n",
    "                                     g_min=9.0,\n",
    "                                     acceptance_range=0.2,\n",
    "                                     decay_dict={\"mean\": [-0.08900206],\n",
    "                                                 \"std\": [0.04201137, 0.41183342]})\n",
    "rpu_config = gen_rpu_config(noise_model=noise_model)\n",
    "#rpu_config = gen_rpu_config()\n",
    "converted_model = convert_to_analog(model, rpu_config)\n",
    "#t_inferences = [0, 1, 3600, 3600 * 24, 3600 * 24 * 365 * 10]\n",
    "t_inferences = [10, 10e3, 10e4, 10e5]\n",
    "#t_inferences = [0, 3600 * 24 * 365 * 10]\n",
    "#labels = [\"0s\", \"1s\", \"1h\", \"1d\", \"10y\"]\n",
    "print(\"Programming: \",test_step(converted_model, criterion, testloader))\n",
    "labels = [\"0s\",  \"10y\"]\n",
    "color = [ 'lightskyblue', 'lightcoral']\n",
    "n_rep = 1\n",
    "drifted_test_accs = torch.zeros(size=(len(t_inferences), 1))\n",
    "plt.figure()\n",
    "for i,t in enumerate(t_inferences):\n",
    "    for j in range(n_rep):\n",
    "        converted_model.drift_analog_weights(t)\n",
    "        print(\"Drifted at t: \", t)\n",
    "        accuracy = test_step(converted_model, criterion, testloader)\n",
    "        drifted_test_accs[i] += accuracy\n",
    "        print(f\"Accuracy of the analog model: {accuracy:.2f}%\")\n",
    "        w, _ = (\n",
    "        converted_model\n",
    "        .layer3[0]\n",
    "        .conv1.analog_module.get_weights(apply_weight_scaling=True)\n",
    "        )\n",
    "        real_weights = model.layer3[0].conv1.weight\n",
    "        real_weights = real_weights.flatten(start_dim=1, end_dim=-1)\n",
    "        print(real_weights.shape)\n",
    "        print(w.shape)\n",
    "        print(\"Weight error:\", torch.mean(torch.abs(real_weights.cpu() - w.cpu())).item())\n",
    "\"\"\"\n",
    "    \n",
    "    plt.hist(w.flatten().detach().numpy(), color=color[i], bins=300, alpha =0.5, label=f\"Time of inference = {labels[i]}\")\n",
    "    mean_w = w.flatten().detach().numpy()\n",
    "    std_w = mean_w.std()\n",
    "    mean_w = mean_w.mean()\n",
    "    #plt.axvline(mean_w - std_w, color='b', linestyle='dotted', linewidth=2, label =f\"STD:{std_w:.4f}\")\n",
    "    #plt.axvline(mean_w + std_w, color='b', linestyle='dotted', linewidth=2)\n",
    "    #plt.axvspan(mean_w - std_w, mean_w + std_w, color='blue', alpha=0.2)\n",
    "    #plt.axvline(mean_w)\n",
    "    drifted_test_accs[i]/= n_rep\n",
    "plt.legend()\n",
    "plt.xlabel(\"Unnormalized weight\")\n",
    "plt.ylabel(\"Count\")\n",
    "#plt.title(f\"Time of inference = {labels[i]}\")\n",
    "plt.show()\n",
    "\"\"\""
   ]
  },
  {
   "cell_type": "code",
   "execution_count": 12,
   "metadata": {},
   "outputs": [],
   "source": [
    "torch.save(drifted_test_accs, \"resnet_baseline_drift.th\")"
   ]
  },
  {
   "cell_type": "code",
   "execution_count": 38,
   "metadata": {},
   "outputs": [
    {
     "name": "stderr",
     "output_type": "stream",
     "text": [
      "/tmp/ipykernel_2111725/1739357087.py:9: FutureWarning: You are using `torch.load` with `weights_only=False` (the current default value), which uses the default pickle module implicitly. It is possible to construct malicious pickle data which will execute arbitrary code during unpickling (See https://github.com/pytorch/pytorch/blob/main/SECURITY.md#untrusted-models for more details). In a future release, the default value for `weights_only` will be flipped to `True`. This limits the functions that could be executed during unpickling. Arbitrary objects will no longer be allowed to be loaded via this mode unless they are explicitly allowlisted by the user via `torch.serialization.add_safe_globals`. We recommend you start setting `weights_only=True` for any use case where you don't have full control of the loaded file. Please open an issue on GitHub for any issues related to this experimental feature.\n",
      "  torch.load(\"Models/hwa_reram_resnet_6_8bits_input_range_Claudia.th\", map_location=device)\n"
     ]
    },
    {
     "name": "stdout",
     "output_type": "stream",
     "text": [
      "Drifted at t:  0\n",
      "Test loss 0.0020 test acc. 92.19%\n",
      "Accuracy of the analog model: 92.19%\n",
      "Drifted at t:  0\n",
      "Test loss 0.0020 test acc. 92.16%\n",
      "Accuracy of the analog model: 92.16%\n",
      "Drifted at t:  0\n",
      "Test loss 0.0020 test acc. 92.34%\n",
      "Accuracy of the analog model: 92.34%\n",
      "Drifted at t:  0\n",
      "Test loss 0.0020 test acc. 92.33%\n",
      "Accuracy of the analog model: 92.33%\n",
      "Drifted at t:  0\n",
      "Test loss 0.0020 test acc. 92.34%\n",
      "Accuracy of the analog model: 92.34%\n",
      "Drifted at t:  1\n",
      "Test loss 0.0020 test acc. 92.34%\n",
      "Accuracy of the analog model: 92.34%\n",
      "Drifted at t:  1\n",
      "Test loss 0.0020 test acc. 92.30%\n",
      "Accuracy of the analog model: 92.30%\n",
      "Drifted at t:  1\n",
      "Test loss 0.0020 test acc. 92.39%\n",
      "Accuracy of the analog model: 92.39%\n",
      "Drifted at t:  1\n",
      "Test loss 0.0020 test acc. 92.59%\n",
      "Accuracy of the analog model: 92.59%\n",
      "Drifted at t:  1\n",
      "Test loss 0.0020 test acc. 92.42%\n",
      "Accuracy of the analog model: 92.42%\n",
      "Drifted at t:  3600\n",
      "Test loss 0.0020 test acc. 92.40%\n",
      "Accuracy of the analog model: 92.40%\n",
      "Drifted at t:  3600\n",
      "Test loss 0.0021 test acc. 92.30%\n",
      "Accuracy of the analog model: 92.30%\n",
      "Drifted at t:  3600\n",
      "Test loss 0.0020 test acc. 92.28%\n",
      "Accuracy of the analog model: 92.28%\n",
      "Drifted at t:  3600\n",
      "Test loss 0.0020 test acc. 92.24%\n",
      "Accuracy of the analog model: 92.24%\n",
      "Drifted at t:  3600\n",
      "Test loss 0.0020 test acc. 92.22%\n",
      "Accuracy of the analog model: 92.22%\n",
      "Drifted at t:  86400\n",
      "Test loss 0.0021 test acc. 92.46%\n",
      "Accuracy of the analog model: 92.46%\n",
      "Drifted at t:  86400\n",
      "Test loss 0.0020 test acc. 92.33%\n",
      "Accuracy of the analog model: 92.33%\n",
      "Drifted at t:  86400\n",
      "Test loss 0.0020 test acc. 92.24%\n",
      "Accuracy of the analog model: 92.24%\n",
      "Drifted at t:  86400\n",
      "Test loss 0.0021 test acc. 92.19%\n",
      "Accuracy of the analog model: 92.19%\n",
      "Drifted at t:  86400\n",
      "Test loss 0.0021 test acc. 92.32%\n",
      "Accuracy of the analog model: 92.32%\n",
      "Drifted at t:  315360000\n",
      "Test loss 0.0021 test acc. 92.11%\n",
      "Accuracy of the analog model: 92.11%\n",
      "Drifted at t:  315360000\n",
      "Test loss 0.0022 test acc. 92.03%\n",
      "Accuracy of the analog model: 92.03%\n",
      "Drifted at t:  315360000\n",
      "Test loss 0.0021 test acc. 92.34%\n",
      "Accuracy of the analog model: 92.34%\n",
      "Drifted at t:  315360000\n",
      "Test loss 0.0021 test acc. 92.20%\n",
      "Accuracy of the analog model: 92.20%\n",
      "Drifted at t:  315360000\n",
      "Test loss 0.0020 test acc. 92.31%\n",
      "Accuracy of the analog model: 92.31%\n",
      "file [[91.84000396728516, 91.80599975585938, 10.374000549316406, 10.243999481201172, 10.333999633789062], [92.406005859375, 92.37799835205078, 69.79000091552734, 40.507999420166016, 14.311999320983887], tensor([92.2720, 92.4080, 92.2880, 92.3080, 92.1980])]\n",
      "error now tensor([92.2720, 92.4080, 92.2880, 92.3080, 92.1980])\n"
     ]
    }
   ],
   "source": [
    "noise_model = ReRamCMONoiseModel(g_max=88.19,\n",
    "                                     g_min=9.0,\n",
    "                                     acceptance_range=0.2,\n",
    "                                    decay_dict={\"mean\": [0],\n",
    "                                                 \"std\": [0.04201137, 0.41183342]})\n",
    "rpu_config = gen_rpu_config(noise_model=noise_model)\n",
    "# analog_model = convert_to_analog(model, rpu_config)\n",
    "analog_model.load_state_dict(\n",
    "        torch.load(\"Models/hwa_reram_resnet_6_8bits_input_range_Claudia.th\", map_location=device)\n",
    "    )\n",
    "analog_model.eval()\n",
    "analog_model.program_analog_weights(noise_model=noise_model)\n",
    "t_inferences = [0, 1, 3600, 3600 * 24, 3600 * 24 * 365 * 10]\n",
    "n_rep = 5\n",
    "drifted_test_accs = torch.zeros(size=(len(t_inferences),n_rep))\n",
    "for i,t in enumerate(t_inferences):\n",
    "    for j in range(n_rep):\n",
    "        analog_model.drift_analog_weights(t)\n",
    "        print(\"Drifted at t: \", t)\n",
    "        accuracy = test_step(analog_model, criterion, testloader)\n",
    "        drifted_test_accs[i, j] = accuracy\n",
    "        print(f\"Accuracy of the analog model: {accuracy:.2f}%\")\n",
    "\n",
    "drifted_test_accs = drifted_test_accs.mean(dim=1)\n",
    "\n",
    "filename = \"AccuracyVSTime_ResNET_HWA.npy\"\n",
    "\n",
    "# Controlla se il file esiste già e carica i dati precedenti\n",
    "if os.path.exists(filename):\n",
    "    acc_file = np.load(filename, allow_pickle=True).tolist()  # Carica i dati esistenti\n",
    "else:\n",
    "    acc_file = []  # Se il file non esiste, inizializza una lista vuota\n",
    "\n",
    "# Aggiunge i nuovi dati alla lista\n",
    "acc_file.append(drifted_test_accs)\n",
    "print('file', acc_file)\n",
    "print('error now', drifted_test_accs)\n",
    "# Salva il file aggiornato\n",
    "np.save(filename, np.array(acc_file, dtype=object))\n"
   ]
  },
  {
   "cell_type": "markdown",
   "metadata": {
    "id": "SDdP2piA-C4S"
   },
   "source": [
    "We first convert our model to an analog model using `convert_to_analog` where we pass the model and the RPU config. The optimizer, in this case, `AnalogSGD`.\n",
    "The rest is standard training. Analog models can be easily saved like regular models."
   ]
  },
  {
   "cell_type": "code",
   "execution_count": 33,
   "metadata": {
    "colab": {
     "base_uri": "https://localhost:8080/"
    },
    "id": "CF6ddwgw-C4S",
    "outputId": "17dbd555-d243-4cac-eed6-c8652d8e79bb"
   },
   "outputs": [
    {
     "name": "stderr",
     "output_type": "stream",
     "text": [
      "Epoch 0 Train loss: 0.0083 train acc. 63.19%:   1%|▎                                  | 1/100 [01:26<2:22:48, 86.55s/it]"
     ]
    },
    {
     "name": "stdout",
     "output_type": "stream",
     "text": [
      "Test loss 0.0056 test acc. 74.71%\n"
     ]
    },
    {
     "name": "stderr",
     "output_type": "stream",
     "text": [
      "Epoch 1 Train loss: 0.0053 train acc. 76.25%:   2%|▋                                  | 2/100 [02:51<2:19:46, 85.58s/it]"
     ]
    },
    {
     "name": "stdout",
     "output_type": "stream",
     "text": [
      "Test loss 0.0049 test acc. 79.32%\n"
     ]
    },
    {
     "name": "stderr",
     "output_type": "stream",
     "text": [
      "Epoch 2 Train loss: 0.0041 train acc. 81.53%:   3%|█                                  | 3/100 [04:16<2:17:36, 85.12s/it]"
     ]
    },
    {
     "name": "stdout",
     "output_type": "stream",
     "text": [
      "Test loss 0.0043 test acc. 82.40%\n"
     ]
    },
    {
     "name": "stderr",
     "output_type": "stream",
     "text": [
      "Epoch 3 Train loss: 0.0034 train acc. 84.86%:   4%|█▍                                 | 4/100 [05:39<2:15:09, 84.48s/it]"
     ]
    },
    {
     "name": "stdout",
     "output_type": "stream",
     "text": [
      "Test loss 0.0034 test acc. 85.64%\n"
     ]
    },
    {
     "name": "stderr",
     "output_type": "stream",
     "text": [
      "Epoch 4 Train loss: 0.0029 train acc. 87.19%:   5%|█▊                                 | 5/100 [07:02<2:12:49, 83.89s/it]"
     ]
    },
    {
     "name": "stdout",
     "output_type": "stream",
     "text": [
      "Test loss 0.0032 test acc. 86.76%\n"
     ]
    },
    {
     "name": "stderr",
     "output_type": "stream",
     "text": [
      "Epoch 5 Train loss: 0.0025 train acc. 88.82%:   6%|██                                 | 6/100 [08:25<2:10:46, 83.47s/it]"
     ]
    },
    {
     "name": "stdout",
     "output_type": "stream",
     "text": [
      "Test loss 0.0033 test acc. 86.13%\n"
     ]
    },
    {
     "name": "stderr",
     "output_type": "stream",
     "text": [
      "Epoch 6 Train loss: 0.0023 train acc. 89.74%:   7%|██▍                                | 7/100 [09:46<2:08:24, 82.84s/it]"
     ]
    },
    {
     "name": "stdout",
     "output_type": "stream",
     "text": [
      "Test loss 0.0028 test acc. 87.88%\n"
     ]
    },
    {
     "name": "stderr",
     "output_type": "stream",
     "text": [
      "Epoch 7 Train loss: 0.0021 train acc. 90.44%:   8%|██▊                                | 8/100 [11:07<2:06:09, 82.28s/it]"
     ]
    },
    {
     "name": "stdout",
     "output_type": "stream",
     "text": [
      "Test loss 0.0028 test acc. 88.08%\n"
     ]
    },
    {
     "name": "stderr",
     "output_type": "stream",
     "text": [
      "Epoch 8 Train loss: 0.0020 train acc. 91.05%:   9%|███▏                               | 9/100 [12:27<2:03:52, 81.68s/it]"
     ]
    },
    {
     "name": "stdout",
     "output_type": "stream",
     "text": [
      "Test loss 0.0026 test acc. 89.43%\n"
     ]
    },
    {
     "name": "stderr",
     "output_type": "stream",
     "text": [
      "Epoch 9 Train loss: 0.0019 train acc. 91.98%:  10%|███▍                              | 10/100 [13:47<2:01:38, 81.09s/it]"
     ]
    },
    {
     "name": "stdout",
     "output_type": "stream",
     "text": [
      "Test loss 0.0026 test acc. 89.07%\n"
     ]
    },
    {
     "name": "stderr",
     "output_type": "stream",
     "text": [
      "Epoch 10 Train loss: 0.0018 train acc. 92.12%:  11%|███▋                             | 11/100 [15:06<1:59:26, 80.52s/it]"
     ]
    },
    {
     "name": "stdout",
     "output_type": "stream",
     "text": [
      "Test loss 0.0026 test acc. 89.36%\n"
     ]
    },
    {
     "name": "stderr",
     "output_type": "stream",
     "text": [
      "Epoch 11 Train loss: 0.0017 train acc. 92.45%:  12%|███▉                             | 12/100 [16:26<1:57:39, 80.23s/it]"
     ]
    },
    {
     "name": "stdout",
     "output_type": "stream",
     "text": [
      "Test loss 0.0025 test acc. 90.11%\n"
     ]
    },
    {
     "name": "stderr",
     "output_type": "stream",
     "text": [
      "Epoch 12 Train loss: 0.0016 train acc. 92.89%:  13%|████▎                            | 13/100 [17:46<1:56:14, 80.16s/it]"
     ]
    },
    {
     "name": "stdout",
     "output_type": "stream",
     "text": [
      "Test loss 0.0027 test acc. 89.08%\n"
     ]
    },
    {
     "name": "stderr",
     "output_type": "stream",
     "text": [
      "Epoch 13 Train loss: 0.0016 train acc. 93.11%:  14%|████▌                            | 14/100 [19:06<1:54:37, 79.97s/it]"
     ]
    },
    {
     "name": "stdout",
     "output_type": "stream",
     "text": [
      "Test loss 0.0026 test acc. 88.88%\n"
     ]
    },
    {
     "name": "stderr",
     "output_type": "stream",
     "text": [
      "Epoch 14 Train loss: 0.0015 train acc. 93.35%:  15%|████▉                            | 15/100 [20:25<1:53:09, 79.88s/it]"
     ]
    },
    {
     "name": "stdout",
     "output_type": "stream",
     "text": [
      "Test loss 0.0025 test acc. 89.77%\n"
     ]
    },
    {
     "name": "stderr",
     "output_type": "stream",
     "text": [
      "Epoch 15 Train loss: 0.0015 train acc. 93.73%:  16%|█████▎                           | 16/100 [21:45<1:51:38, 79.74s/it]"
     ]
    },
    {
     "name": "stdout",
     "output_type": "stream",
     "text": [
      "Test loss 0.0027 test acc. 89.09%\n"
     ]
    },
    {
     "name": "stderr",
     "output_type": "stream",
     "text": [
      "Epoch 16 Train loss: 0.0014 train acc. 93.69%:  17%|█████▌                           | 17/100 [23:04<1:50:18, 79.74s/it]"
     ]
    },
    {
     "name": "stdout",
     "output_type": "stream",
     "text": [
      "Test loss 0.0022 test acc. 90.67%\n"
     ]
    },
    {
     "name": "stderr",
     "output_type": "stream",
     "text": [
      "Epoch 17 Train loss: 0.0014 train acc. 93.76%:  18%|█████▉                           | 18/100 [24:25<1:49:13, 79.92s/it]"
     ]
    },
    {
     "name": "stdout",
     "output_type": "stream",
     "text": [
      "Test loss 0.0024 test acc. 90.16%\n"
     ]
    },
    {
     "name": "stderr",
     "output_type": "stream",
     "text": [
      "Epoch 18 Train loss: 0.0014 train acc. 93.77%:  19%|██████▎                          | 19/100 [25:45<1:48:11, 80.14s/it]"
     ]
    },
    {
     "name": "stdout",
     "output_type": "stream",
     "text": [
      "Test loss 0.0022 test acc. 91.23%\n"
     ]
    },
    {
     "name": "stderr",
     "output_type": "stream",
     "text": [
      "Epoch 19 Train loss: 0.0013 train acc. 94.05%:  20%|██████▌                          | 20/100 [27:06<1:46:51, 80.14s/it]"
     ]
    },
    {
     "name": "stdout",
     "output_type": "stream",
     "text": [
      "Test loss 0.0024 test acc. 90.22%\n"
     ]
    },
    {
     "name": "stderr",
     "output_type": "stream",
     "text": [
      "Epoch 20 Train loss: 0.0013 train acc. 94.29%:  21%|██████▉                          | 21/100 [28:25<1:45:18, 79.98s/it]"
     ]
    },
    {
     "name": "stdout",
     "output_type": "stream",
     "text": [
      "Test loss 0.0022 test acc. 91.09%\n"
     ]
    },
    {
     "name": "stderr",
     "output_type": "stream",
     "text": [
      "Epoch 21 Train loss: 0.0013 train acc. 94.30%:  22%|███████▎                         | 22/100 [29:45<1:43:49, 79.87s/it]"
     ]
    },
    {
     "name": "stdout",
     "output_type": "stream",
     "text": [
      "Test loss 0.0025 test acc. 89.85%\n"
     ]
    },
    {
     "name": "stderr",
     "output_type": "stream",
     "text": [
      "Epoch 22 Train loss: 0.0013 train acc. 94.40%:  23%|███████▌                         | 23/100 [31:03<1:42:02, 79.51s/it]"
     ]
    },
    {
     "name": "stdout",
     "output_type": "stream",
     "text": [
      "Test loss 0.0022 test acc. 90.99%\n"
     ]
    },
    {
     "name": "stderr",
     "output_type": "stream",
     "text": [
      "Epoch 23 Train loss: 0.0013 train acc. 94.46%:  24%|███████▉                         | 24/100 [32:22<1:40:18, 79.19s/it]"
     ]
    },
    {
     "name": "stdout",
     "output_type": "stream",
     "text": [
      "Test loss 0.0023 test acc. 90.92%\n"
     ]
    },
    {
     "name": "stderr",
     "output_type": "stream",
     "text": [
      "Epoch 24 Train loss: 0.0013 train acc. 94.30%:  25%|████████▎                        | 25/100 [33:41<1:38:49, 79.06s/it]"
     ]
    },
    {
     "name": "stdout",
     "output_type": "stream",
     "text": [
      "Test loss 0.0023 test acc. 90.41%\n"
     ]
    },
    {
     "name": "stderr",
     "output_type": "stream",
     "text": [
      "Epoch 25 Train loss: 0.0013 train acc. 94.29%:  26%|████████▌                        | 26/100 [34:59<1:37:23, 78.96s/it]"
     ]
    },
    {
     "name": "stdout",
     "output_type": "stream",
     "text": [
      "Test loss 0.0022 test acc. 91.05%\n"
     ]
    },
    {
     "name": "stderr",
     "output_type": "stream",
     "text": [
      "Epoch 26 Train loss: 0.0012 train acc. 94.62%:  27%|████████▉                        | 27/100 [36:19<1:36:14, 79.10s/it]"
     ]
    },
    {
     "name": "stdout",
     "output_type": "stream",
     "text": [
      "Test loss 0.0022 test acc. 91.40%\n"
     ]
    },
    {
     "name": "stderr",
     "output_type": "stream",
     "text": [
      "Epoch 27 Train loss: 0.0012 train acc. 94.68%:  28%|█████████▏                       | 28/100 [37:38<1:34:52, 79.06s/it]"
     ]
    },
    {
     "name": "stdout",
     "output_type": "stream",
     "text": [
      "Test loss 0.0023 test acc. 91.08%\n"
     ]
    },
    {
     "name": "stderr",
     "output_type": "stream",
     "text": [
      "Epoch 28 Train loss: 0.0012 train acc. 94.77%:  29%|█████████▌                       | 29/100 [38:57<1:33:27, 78.97s/it]"
     ]
    },
    {
     "name": "stdout",
     "output_type": "stream",
     "text": [
      "Test loss 0.0024 test acc. 90.56%\n"
     ]
    },
    {
     "name": "stderr",
     "output_type": "stream",
     "text": [
      "Epoch 29 Train loss: 0.0012 train acc. 94.72%:  30%|█████████▉                       | 30/100 [40:16<1:32:13, 79.05s/it]"
     ]
    },
    {
     "name": "stdout",
     "output_type": "stream",
     "text": [
      "Test loss 0.0023 test acc. 91.02%\n"
     ]
    },
    {
     "name": "stderr",
     "output_type": "stream",
     "text": [
      "Epoch 30 Train loss: 0.0012 train acc. 94.77%:  31%|██████████▏                      | 31/100 [41:34<1:30:38, 78.82s/it]"
     ]
    },
    {
     "name": "stdout",
     "output_type": "stream",
     "text": [
      "Test loss 0.0023 test acc. 91.13%\n"
     ]
    },
    {
     "name": "stderr",
     "output_type": "stream",
     "text": [
      "Epoch 31 Train loss: 0.0012 train acc. 94.97%:  32%|██████████▌                      | 32/100 [42:53<1:29:17, 78.78s/it]"
     ]
    },
    {
     "name": "stdout",
     "output_type": "stream",
     "text": [
      "Test loss 0.0024 test acc. 90.71%\n"
     ]
    },
    {
     "name": "stderr",
     "output_type": "stream",
     "text": [
      "Epoch 32 Train loss: 0.0012 train acc. 94.87%:  33%|██████████▉                      | 33/100 [44:12<1:28:03, 78.86s/it]"
     ]
    },
    {
     "name": "stdout",
     "output_type": "stream",
     "text": [
      "Test loss 0.0023 test acc. 91.12%\n"
     ]
    },
    {
     "name": "stderr",
     "output_type": "stream",
     "text": [
      "Epoch 33 Train loss: 0.0011 train acc. 94.97%:  34%|███████████▏                     | 34/100 [45:31<1:26:59, 79.09s/it]"
     ]
    },
    {
     "name": "stdout",
     "output_type": "stream",
     "text": [
      "Test loss 0.0024 test acc. 90.48%\n"
     ]
    },
    {
     "name": "stderr",
     "output_type": "stream",
     "text": [
      "Epoch 34 Train loss: 0.0011 train acc. 95.02%:  35%|███████████▌                     | 35/100 [46:51<1:25:54, 79.30s/it]"
     ]
    },
    {
     "name": "stdout",
     "output_type": "stream",
     "text": [
      "Test loss 0.0021 test acc. 91.41%\n"
     ]
    },
    {
     "name": "stderr",
     "output_type": "stream",
     "text": [
      "Epoch 35 Train loss: 0.0011 train acc. 95.17%:  36%|███████████▉                     | 36/100 [48:11<1:24:46, 79.48s/it]"
     ]
    },
    {
     "name": "stdout",
     "output_type": "stream",
     "text": [
      "Test loss 0.0022 test acc. 90.97%\n"
     ]
    },
    {
     "name": "stderr",
     "output_type": "stream",
     "text": [
      "Epoch 36 Train loss: 0.0011 train acc. 95.24%:  37%|████████████▏                    | 37/100 [49:30<1:23:23, 79.43s/it]"
     ]
    },
    {
     "name": "stdout",
     "output_type": "stream",
     "text": [
      "Test loss 0.0022 test acc. 91.14%\n"
     ]
    },
    {
     "name": "stderr",
     "output_type": "stream",
     "text": [
      "Epoch 37 Train loss: 0.0011 train acc. 95.14%:  38%|████████████▌                    | 38/100 [50:50<1:22:05, 79.44s/it]"
     ]
    },
    {
     "name": "stdout",
     "output_type": "stream",
     "text": [
      "Test loss 0.0022 test acc. 91.11%\n"
     ]
    },
    {
     "name": "stderr",
     "output_type": "stream",
     "text": [
      "Epoch 38 Train loss: 0.0011 train acc. 95.19%:  39%|████████████▊                    | 39/100 [52:09<1:20:39, 79.33s/it]"
     ]
    },
    {
     "name": "stdout",
     "output_type": "stream",
     "text": [
      "Test loss 0.0022 test acc. 91.25%\n"
     ]
    },
    {
     "name": "stderr",
     "output_type": "stream",
     "text": [
      "Epoch 39 Train loss: 0.0011 train acc. 95.25%:  40%|█████████████▏                   | 40/100 [53:29<1:19:29, 79.49s/it]"
     ]
    },
    {
     "name": "stdout",
     "output_type": "stream",
     "text": [
      "Test loss 0.0022 test acc. 91.33%\n"
     ]
    },
    {
     "name": "stderr",
     "output_type": "stream",
     "text": [
      "Epoch 40 Train loss: 0.0011 train acc. 95.39%:  41%|█████████████▌                   | 41/100 [54:48<1:18:01, 79.35s/it]"
     ]
    },
    {
     "name": "stdout",
     "output_type": "stream",
     "text": [
      "Test loss 0.0022 test acc. 91.59%\n"
     ]
    },
    {
     "name": "stderr",
     "output_type": "stream",
     "text": [
      "Epoch 41 Train loss: 0.0010 train acc. 95.48%:  42%|█████████████▊                   | 42/100 [56:06<1:16:24, 79.04s/it]"
     ]
    },
    {
     "name": "stdout",
     "output_type": "stream",
     "text": [
      "Test loss 0.0022 test acc. 91.33%\n"
     ]
    },
    {
     "name": "stderr",
     "output_type": "stream",
     "text": [
      "Epoch 42 Train loss: 0.0011 train acc. 95.33%:  43%|██████████████▏                  | 43/100 [57:25<1:15:04, 79.03s/it]"
     ]
    },
    {
     "name": "stdout",
     "output_type": "stream",
     "text": [
      "Test loss 0.0022 test acc. 91.19%\n"
     ]
    },
    {
     "name": "stderr",
     "output_type": "stream",
     "text": [
      "Epoch 43 Train loss: 0.0011 train acc. 95.31%:  44%|██████████████▌                  | 44/100 [58:44<1:13:43, 78.99s/it]"
     ]
    },
    {
     "name": "stdout",
     "output_type": "stream",
     "text": [
      "Test loss 0.0023 test acc. 91.08%\n"
     ]
    },
    {
     "name": "stderr",
     "output_type": "stream",
     "text": [
      "Epoch 44 Train loss: 0.0010 train acc. 95.49%:  45%|█████████████▉                 | 45/100 [1:00:03<1:12:18, 78.88s/it]"
     ]
    },
    {
     "name": "stdout",
     "output_type": "stream",
     "text": [
      "Test loss 0.0022 test acc. 91.54%\n"
     ]
    },
    {
     "name": "stderr",
     "output_type": "stream",
     "text": [
      "Epoch 45 Train loss: 0.0011 train acc. 95.41%:  46%|██████████████▎                | 46/100 [1:01:21<1:10:55, 78.80s/it]"
     ]
    },
    {
     "name": "stdout",
     "output_type": "stream",
     "text": [
      "Test loss 0.0022 test acc. 91.46%\n"
     ]
    },
    {
     "name": "stderr",
     "output_type": "stream",
     "text": [
      "Epoch 46 Train loss: 0.0010 train acc. 95.42%:  47%|██████████████▌                | 47/100 [1:02:40<1:09:35, 78.78s/it]"
     ]
    },
    {
     "name": "stdout",
     "output_type": "stream",
     "text": [
      "Test loss 0.0024 test acc. 90.83%\n"
     ]
    },
    {
     "name": "stderr",
     "output_type": "stream",
     "text": [
      "Epoch 47 Train loss: 0.0010 train acc. 95.53%:  48%|██████████████▉                | 48/100 [1:03:58<1:08:08, 78.62s/it]"
     ]
    },
    {
     "name": "stdout",
     "output_type": "stream",
     "text": [
      "Test loss 0.0021 test acc. 91.50%\n"
     ]
    },
    {
     "name": "stderr",
     "output_type": "stream",
     "text": [
      "Epoch 48 Train loss: 0.0010 train acc. 95.52%:  49%|███████████████▏               | 49/100 [1:05:16<1:06:42, 78.48s/it]"
     ]
    },
    {
     "name": "stdout",
     "output_type": "stream",
     "text": [
      "Test loss 0.0022 test acc. 91.03%\n"
     ]
    },
    {
     "name": "stderr",
     "output_type": "stream",
     "text": [
      "Epoch 49 Train loss: 0.0010 train acc. 95.61%:  50%|███████████████▌               | 50/100 [1:06:35<1:05:20, 78.41s/it]"
     ]
    },
    {
     "name": "stdout",
     "output_type": "stream",
     "text": [
      "Test loss 0.0023 test acc. 90.97%\n"
     ]
    },
    {
     "name": "stderr",
     "output_type": "stream",
     "text": [
      "Epoch 50 Train loss: 0.0010 train acc. 95.62%:  51%|███████████████▊               | 51/100 [1:07:53<1:03:59, 78.37s/it]"
     ]
    },
    {
     "name": "stdout",
     "output_type": "stream",
     "text": [
      "Test loss 0.0021 test acc. 91.43%\n"
     ]
    },
    {
     "name": "stderr",
     "output_type": "stream",
     "text": [
      "Epoch 51 Train loss: 0.0010 train acc. 95.75%:  52%|████████████████               | 52/100 [1:09:11<1:02:38, 78.31s/it]"
     ]
    },
    {
     "name": "stdout",
     "output_type": "stream",
     "text": [
      "Test loss 0.0021 test acc. 91.87%\n"
     ]
    },
    {
     "name": "stderr",
     "output_type": "stream",
     "text": [
      "Epoch 52 Train loss: 0.0010 train acc. 95.46%:  53%|████████████████▍              | 53/100 [1:10:30<1:01:29, 78.49s/it]"
     ]
    },
    {
     "name": "stdout",
     "output_type": "stream",
     "text": [
      "Test loss 0.0023 test acc. 90.80%\n"
     ]
    },
    {
     "name": "stderr",
     "output_type": "stream",
     "text": [
      "Epoch 53 Train loss: 0.0010 train acc. 95.68%:  54%|████████████████▋              | 54/100 [1:11:49<1:00:11, 78.50s/it]"
     ]
    },
    {
     "name": "stdout",
     "output_type": "stream",
     "text": [
      "Test loss 0.0020 test acc. 91.94%\n"
     ]
    },
    {
     "name": "stderr",
     "output_type": "stream",
     "text": [
      "Epoch 54 Train loss: 0.0010 train acc. 95.66%:  55%|██████████████████▏              | 55/100 [1:13:07<58:48, 78.41s/it]"
     ]
    },
    {
     "name": "stdout",
     "output_type": "stream",
     "text": [
      "Test loss 0.0025 test acc. 90.39%\n"
     ]
    },
    {
     "name": "stderr",
     "output_type": "stream",
     "text": [
      "Epoch 55 Train loss: 0.0010 train acc. 95.83%:  56%|██████████████████▍              | 56/100 [1:14:25<57:22, 78.24s/it]"
     ]
    },
    {
     "name": "stdout",
     "output_type": "stream",
     "text": [
      "Test loss 0.0022 test acc. 91.62%\n"
     ]
    },
    {
     "name": "stderr",
     "output_type": "stream",
     "text": [
      "Epoch 56 Train loss: 0.0010 train acc. 95.70%:  57%|██████████████████▊              | 57/100 [1:15:43<56:03, 78.22s/it]"
     ]
    },
    {
     "name": "stdout",
     "output_type": "stream",
     "text": [
      "Test loss 0.0024 test acc. 90.50%\n"
     ]
    },
    {
     "name": "stderr",
     "output_type": "stream",
     "text": [
      "Epoch 57 Train loss: 0.0009 train acc. 95.91%:  58%|███████████████████▏             | 58/100 [1:17:01<54:47, 78.28s/it]"
     ]
    },
    {
     "name": "stdout",
     "output_type": "stream",
     "text": [
      "Test loss 0.0022 test acc. 91.40%\n"
     ]
    },
    {
     "name": "stderr",
     "output_type": "stream",
     "text": [
      "Epoch 58 Train loss: 0.0010 train acc. 95.85%:  59%|███████████████████▍             | 59/100 [1:18:19<53:25, 78.18s/it]"
     ]
    },
    {
     "name": "stdout",
     "output_type": "stream",
     "text": [
      "Test loss 0.0020 test acc. 92.40%\n"
     ]
    },
    {
     "name": "stderr",
     "output_type": "stream",
     "text": [
      "Epoch 59 Train loss: 0.0009 train acc. 95.91%:  60%|███████████████████▊             | 60/100 [1:19:37<52:02, 78.06s/it]"
     ]
    },
    {
     "name": "stdout",
     "output_type": "stream",
     "text": [
      "Test loss 0.0022 test acc. 91.45%\n"
     ]
    },
    {
     "name": "stderr",
     "output_type": "stream",
     "text": [
      "Epoch 60 Train loss: 0.0010 train acc. 95.73%:  61%|████████████████████▏            | 61/100 [1:20:55<50:46, 78.11s/it]"
     ]
    },
    {
     "name": "stdout",
     "output_type": "stream",
     "text": [
      "Test loss 0.0021 test acc. 91.77%\n"
     ]
    },
    {
     "name": "stderr",
     "output_type": "stream",
     "text": [
      "Epoch 61 Train loss: 0.0010 train acc. 95.69%:  62%|████████████████████▍            | 62/100 [1:22:14<49:32, 78.23s/it]"
     ]
    },
    {
     "name": "stdout",
     "output_type": "stream",
     "text": [
      "Test loss 0.0022 test acc. 91.58%\n"
     ]
    },
    {
     "name": "stderr",
     "output_type": "stream",
     "text": [
      "Epoch 62 Train loss: 0.0009 train acc. 95.86%:  63%|████████████████████▊            | 63/100 [1:23:32<48:16, 78.29s/it]"
     ]
    },
    {
     "name": "stdout",
     "output_type": "stream",
     "text": [
      "Test loss 0.0024 test acc. 90.50%\n"
     ]
    },
    {
     "name": "stderr",
     "output_type": "stream",
     "text": [
      "Epoch 63 Train loss: 0.0009 train acc. 96.05%:  64%|█████████████████████            | 64/100 [1:24:50<46:57, 78.25s/it]"
     ]
    },
    {
     "name": "stdout",
     "output_type": "stream",
     "text": [
      "Test loss 0.0020 test acc. 92.06%\n"
     ]
    },
    {
     "name": "stderr",
     "output_type": "stream",
     "text": [
      "Epoch 64 Train loss: 0.0009 train acc. 96.08%:  65%|█████████████████████▍           | 65/100 [1:26:09<45:39, 78.27s/it]"
     ]
    },
    {
     "name": "stdout",
     "output_type": "stream",
     "text": [
      "Test loss 0.0021 test acc. 92.06%\n"
     ]
    },
    {
     "name": "stderr",
     "output_type": "stream",
     "text": [
      "Epoch 65 Train loss: 0.0009 train acc. 95.89%:  66%|█████████████████████▊           | 66/100 [1:27:27<44:24, 78.38s/it]"
     ]
    },
    {
     "name": "stdout",
     "output_type": "stream",
     "text": [
      "Test loss 0.0021 test acc. 91.76%\n"
     ]
    },
    {
     "name": "stderr",
     "output_type": "stream",
     "text": [
      "Epoch 66 Train loss: 0.0009 train acc. 96.12%:  67%|██████████████████████           | 67/100 [1:28:46<43:09, 78.47s/it]"
     ]
    },
    {
     "name": "stdout",
     "output_type": "stream",
     "text": [
      "Test loss 0.0022 test acc. 91.27%\n"
     ]
    },
    {
     "name": "stderr",
     "output_type": "stream",
     "text": [
      "Epoch 67 Train loss: 0.0009 train acc. 96.06%:  68%|██████████████████████▍          | 68/100 [1:30:04<41:46, 78.34s/it]"
     ]
    },
    {
     "name": "stdout",
     "output_type": "stream",
     "text": [
      "Test loss 0.0022 test acc. 91.35%\n"
     ]
    },
    {
     "name": "stderr",
     "output_type": "stream",
     "text": [
      "Epoch 68 Train loss: 0.0009 train acc. 96.08%:  69%|██████████████████████▊          | 69/100 [1:31:22<40:27, 78.31s/it]"
     ]
    },
    {
     "name": "stdout",
     "output_type": "stream",
     "text": [
      "Test loss 0.0020 test acc. 92.08%\n"
     ]
    },
    {
     "name": "stderr",
     "output_type": "stream",
     "text": [
      "Epoch 69 Train loss: 0.0009 train acc. 96.20%:  70%|███████████████████████          | 70/100 [1:32:40<39:04, 78.15s/it]"
     ]
    },
    {
     "name": "stdout",
     "output_type": "stream",
     "text": [
      "Test loss 0.0025 test acc. 90.32%\n"
     ]
    },
    {
     "name": "stderr",
     "output_type": "stream",
     "text": [
      "Epoch 70 Train loss: 0.0009 train acc. 96.21%:  71%|███████████████████████▍         | 71/100 [1:33:58<37:44, 78.09s/it]"
     ]
    },
    {
     "name": "stdout",
     "output_type": "stream",
     "text": [
      "Test loss 0.0022 test acc. 91.49%\n"
     ]
    },
    {
     "name": "stderr",
     "output_type": "stream",
     "text": [
      "Epoch 71 Train loss: 0.0009 train acc. 96.07%:  72%|███████████████████████▊         | 72/100 [1:35:15<36:22, 77.94s/it]"
     ]
    },
    {
     "name": "stdout",
     "output_type": "stream",
     "text": [
      "Test loss 0.0022 test acc. 91.46%\n"
     ]
    },
    {
     "name": "stderr",
     "output_type": "stream",
     "text": [
      "Epoch 72 Train loss: 0.0009 train acc. 96.25%:  73%|████████████████████████         | 73/100 [1:36:34<35:07, 78.04s/it]"
     ]
    },
    {
     "name": "stdout",
     "output_type": "stream",
     "text": [
      "Test loss 0.0023 test acc. 91.35%\n"
     ]
    },
    {
     "name": "stderr",
     "output_type": "stream",
     "text": [
      "Epoch 73 Train loss: 0.0009 train acc. 96.30%:  74%|████████████████████████▍        | 74/100 [1:37:52<33:50, 78.11s/it]"
     ]
    },
    {
     "name": "stdout",
     "output_type": "stream",
     "text": [
      "Test loss 0.0022 test acc. 91.43%\n"
     ]
    },
    {
     "name": "stderr",
     "output_type": "stream",
     "text": [
      "Epoch 74 Train loss: 0.0009 train acc. 96.26%:  75%|████████████████████████▊        | 75/100 [1:39:11<32:36, 78.26s/it]"
     ]
    },
    {
     "name": "stdout",
     "output_type": "stream",
     "text": [
      "Test loss 0.0022 test acc. 91.75%\n"
     ]
    },
    {
     "name": "stderr",
     "output_type": "stream",
     "text": [
      "Epoch 75 Train loss: 0.0009 train acc. 96.29%:  76%|█████████████████████████        | 76/100 [1:40:30<31:24, 78.53s/it]"
     ]
    },
    {
     "name": "stdout",
     "output_type": "stream",
     "text": [
      "Test loss 0.0023 test acc. 91.70%\n"
     ]
    },
    {
     "name": "stderr",
     "output_type": "stream",
     "text": [
      "Epoch 76 Train loss: 0.0008 train acc. 96.47%:  77%|█████████████████████████▍       | 77/100 [1:41:49<30:08, 78.65s/it]"
     ]
    },
    {
     "name": "stdout",
     "output_type": "stream",
     "text": [
      "Test loss 0.0022 test acc. 91.62%\n"
     ]
    },
    {
     "name": "stderr",
     "output_type": "stream",
     "text": [
      "Epoch 77 Train loss: 0.0009 train acc. 96.34%:  78%|█████████████████████████▋       | 78/100 [1:43:08<28:53, 78.78s/it]"
     ]
    },
    {
     "name": "stdout",
     "output_type": "stream",
     "text": [
      "Test loss 0.0021 test acc. 92.01%\n"
     ]
    },
    {
     "name": "stderr",
     "output_type": "stream",
     "text": [
      "Epoch 78 Train loss: 0.0008 train acc. 96.41%:  79%|██████████████████████████       | 79/100 [1:44:27<27:34, 78.76s/it]"
     ]
    },
    {
     "name": "stdout",
     "output_type": "stream",
     "text": [
      "Test loss 0.0021 test acc. 91.97%\n"
     ]
    },
    {
     "name": "stderr",
     "output_type": "stream",
     "text": [
      "Epoch 79 Train loss: 0.0008 train acc. 96.36%:  80%|██████████████████████████▍      | 80/100 [1:45:45<26:11, 78.58s/it]"
     ]
    },
    {
     "name": "stdout",
     "output_type": "stream",
     "text": [
      "Test loss 0.0024 test acc. 90.91%\n"
     ]
    },
    {
     "name": "stderr",
     "output_type": "stream",
     "text": [
      "Epoch 80 Train loss: 0.0008 train acc. 96.55%:  81%|██████████████████████████▋      | 81/100 [1:47:03<24:53, 78.60s/it]"
     ]
    },
    {
     "name": "stdout",
     "output_type": "stream",
     "text": [
      "Test loss 0.0020 test acc. 92.23%\n"
     ]
    },
    {
     "name": "stderr",
     "output_type": "stream",
     "text": [
      "Epoch 81 Train loss: 0.0008 train acc. 96.60%:  82%|███████████████████████████      | 82/100 [1:48:22<23:33, 78.56s/it]"
     ]
    },
    {
     "name": "stdout",
     "output_type": "stream",
     "text": [
      "Test loss 0.0021 test acc. 91.88%\n"
     ]
    },
    {
     "name": "stderr",
     "output_type": "stream",
     "text": [
      "Epoch 82 Train loss: 0.0008 train acc. 96.56%:  83%|███████████████████████████▍     | 83/100 [1:49:40<22:12, 78.40s/it]"
     ]
    },
    {
     "name": "stdout",
     "output_type": "stream",
     "text": [
      "Test loss 0.0020 test acc. 92.08%\n"
     ]
    },
    {
     "name": "stderr",
     "output_type": "stream",
     "text": [
      "Epoch 83 Train loss: 0.0008 train acc. 96.49%:  84%|███████████████████████████▋     | 84/100 [1:50:58<20:53, 78.32s/it]"
     ]
    },
    {
     "name": "stdout",
     "output_type": "stream",
     "text": [
      "Test loss 0.0022 test acc. 91.76%\n"
     ]
    },
    {
     "name": "stderr",
     "output_type": "stream",
     "text": [
      "Epoch 84 Train loss: 0.0008 train acc. 96.88%:  85%|████████████████████████████     | 85/100 [1:52:16<19:35, 78.35s/it]"
     ]
    },
    {
     "name": "stdout",
     "output_type": "stream",
     "text": [
      "Test loss 0.0020 test acc. 92.18%\n"
     ]
    },
    {
     "name": "stderr",
     "output_type": "stream",
     "text": [
      "Epoch 85 Train loss: 0.0008 train acc. 96.72%:  86%|████████████████████████████▍    | 86/100 [1:53:36<18:20, 78.62s/it]"
     ]
    },
    {
     "name": "stdout",
     "output_type": "stream",
     "text": [
      "Test loss 0.0021 test acc. 91.96%\n"
     ]
    },
    {
     "name": "stderr",
     "output_type": "stream",
     "text": [
      "Epoch 86 Train loss: 0.0008 train acc. 96.59%:  87%|████████████████████████████▋    | 87/100 [1:54:54<17:01, 78.60s/it]"
     ]
    },
    {
     "name": "stdout",
     "output_type": "stream",
     "text": [
      "Test loss 0.0022 test acc. 91.92%\n"
     ]
    },
    {
     "name": "stderr",
     "output_type": "stream",
     "text": [
      "Epoch 87 Train loss: 0.0008 train acc. 96.62%:  88%|█████████████████████████████    | 88/100 [1:56:12<15:40, 78.40s/it]"
     ]
    },
    {
     "name": "stdout",
     "output_type": "stream",
     "text": [
      "Test loss 0.0021 test acc. 92.02%\n"
     ]
    },
    {
     "name": "stderr",
     "output_type": "stream",
     "text": [
      "Epoch 88 Train loss: 0.0008 train acc. 96.84%:  89%|█████████████████████████████▎   | 89/100 [1:57:30<14:21, 78.28s/it]"
     ]
    },
    {
     "name": "stdout",
     "output_type": "stream",
     "text": [
      "Test loss 0.0020 test acc. 92.28%\n"
     ]
    },
    {
     "name": "stderr",
     "output_type": "stream",
     "text": [
      "Epoch 89 Train loss: 0.0008 train acc. 96.80%:  90%|█████████████████████████████▋   | 90/100 [1:58:48<13:01, 78.12s/it]"
     ]
    },
    {
     "name": "stdout",
     "output_type": "stream",
     "text": [
      "Test loss 0.0021 test acc. 92.10%\n"
     ]
    },
    {
     "name": "stderr",
     "output_type": "stream",
     "text": [
      "Epoch 90 Train loss: 0.0008 train acc. 96.71%:  91%|██████████████████████████████   | 91/100 [2:00:06<11:42, 78.00s/it]"
     ]
    },
    {
     "name": "stdout",
     "output_type": "stream",
     "text": [
      "Test loss 0.0021 test acc. 92.04%\n"
     ]
    },
    {
     "name": "stderr",
     "output_type": "stream",
     "text": [
      "Epoch 91 Train loss: 0.0007 train acc. 96.83%:  92%|██████████████████████████████▎  | 92/100 [2:01:24<10:23, 78.00s/it]"
     ]
    },
    {
     "name": "stdout",
     "output_type": "stream",
     "text": [
      "Test loss 0.0022 test acc. 91.79%\n"
     ]
    },
    {
     "name": "stderr",
     "output_type": "stream",
     "text": [
      "Epoch 92 Train loss: 0.0007 train acc. 96.84%:  93%|██████████████████████████████▋  | 93/100 [2:02:42<09:06, 78.01s/it]"
     ]
    },
    {
     "name": "stdout",
     "output_type": "stream",
     "text": [
      "Test loss 0.0021 test acc. 91.98%\n"
     ]
    },
    {
     "name": "stderr",
     "output_type": "stream",
     "text": [
      "Epoch 93 Train loss: 0.0007 train acc. 96.95%:  94%|███████████████████████████████  | 94/100 [2:03:59<07:47, 77.89s/it]"
     ]
    },
    {
     "name": "stdout",
     "output_type": "stream",
     "text": [
      "Test loss 0.0024 test acc. 90.63%\n"
     ]
    },
    {
     "name": "stderr",
     "output_type": "stream",
     "text": [
      "Epoch 94 Train loss: 0.0007 train acc. 96.91%:  95%|███████████████████████████████▎ | 95/100 [2:05:17<06:30, 78.01s/it]"
     ]
    },
    {
     "name": "stdout",
     "output_type": "stream",
     "text": [
      "Test loss 0.0020 test acc. 92.29%\n"
     ]
    },
    {
     "name": "stderr",
     "output_type": "stream",
     "text": [
      "Epoch 95 Train loss: 0.0007 train acc. 97.08%:  96%|███████████████████████████████▋ | 96/100 [2:06:36<05:13, 78.29s/it]"
     ]
    },
    {
     "name": "stdout",
     "output_type": "stream",
     "text": [
      "Test loss 0.0019 test acc. 92.60%\n"
     ]
    },
    {
     "name": "stderr",
     "output_type": "stream",
     "text": [
      "Epoch 96 Train loss: 0.0007 train acc. 97.09%:  97%|████████████████████████████████ | 97/100 [2:07:55<03:55, 78.35s/it]"
     ]
    },
    {
     "name": "stdout",
     "output_type": "stream",
     "text": [
      "Test loss 0.0021 test acc. 91.96%\n"
     ]
    },
    {
     "name": "stderr",
     "output_type": "stream",
     "text": [
      "Epoch 97 Train loss: 0.0007 train acc. 97.16%:  98%|████████████████████████████████▎| 98/100 [2:09:13<02:36, 78.34s/it]"
     ]
    },
    {
     "name": "stdout",
     "output_type": "stream",
     "text": [
      "Test loss 0.0020 test acc. 92.23%\n"
     ]
    },
    {
     "name": "stderr",
     "output_type": "stream",
     "text": [
      "Epoch 98 Train loss: 0.0007 train acc. 97.18%:  99%|████████████████████████████████▋| 99/100 [2:10:31<01:18, 78.19s/it]"
     ]
    },
    {
     "name": "stdout",
     "output_type": "stream",
     "text": [
      "Test loss 0.0021 test acc. 91.98%\n"
     ]
    },
    {
     "name": "stderr",
     "output_type": "stream",
     "text": [
      "Epoch 99 Train loss: 0.0007 train acc. 97.09%: 100%|████████████████████████████████| 100/100 [2:11:49<00:00, 79.09s/it]"
     ]
    },
    {
     "name": "stdout",
     "output_type": "stream",
     "text": [
      "Test loss 0.0020 test acc. 92.30%\n"
     ]
    },
    {
     "name": "stderr",
     "output_type": "stream",
     "text": [
      "\n"
     ]
    }
   ],
   "source": [
    "# - Fine-tuning\n",
    "noise_model = ReRamCMONoiseModel(g_max=88.19,\n",
    "                                     g_min=9.0,\n",
    "                                     acceptance_range=0.2)\n",
    "analog_model = convert_to_analog(model, gen_rpu_config(noise_model=noise_model))\n",
    "if retrain_finetuned_model:\n",
    "    optimizer = AnalogSGD(\n",
    "        analog_model.parameters(), lr=lr / 10.0, momentum=0.9, weight_decay=5e-4\n",
    "    )\n",
    "    scheduler = torch.optim.lr_scheduler.CosineAnnealingLR(optimizer, T_max=epochs)\n",
    "\n",
    "    test_accs = torch.empty(epochs_finetuning)\n",
    "    pbar = tqdm(range(epochs_finetuning))\n",
    "    for epoch in pbar:\n",
    "        train_loss, train_acc = train_step(analog_model, optimizer, criterion, trainloader)\n",
    "        pbar.set_description(f\"Epoch {epoch} Train loss: {train_loss:.4f} train acc. {train_acc:.2f}%\")\n",
    "        test_accs[epoch] = test_step(analog_model, criterion, testloader)\n",
    "        scheduler.step()\n",
    "\n",
    "    torch.save(analog_model.state_dict(), \"Models/hwa_reram_resnet_6_8bits_input_range_Claudia.th\")\n",
    "    #torch.save(test_accs, \"Models/test_accs.th\")\n",
    "\n",
    "else:\n",
    "    import requests\n",
    "    url_test_accs = 'https://aihwkit-tutorial.s3.us-east.cloud-object-storage.appdomain.cloud/test_accs.th'\n",
    "    url_finetuned_model = 'https://aihwkit-tutorial.s3.us-east.cloud-object-storage.appdomain.cloud/finetuned_model_0.9.1.th'\n",
    "    \n",
    "    response_test_accs = requests.get(url_test_accs)\n",
    "    with open('Models/test_accs.th', 'wb') as f:\n",
    "        f.write(response_test_accs.content)\n",
    "    \n",
    "    response_finetuned_model = requests.get(url_finetuned_model)\n",
    "\n",
    "    with open('Models/finetuned_model_0.9.1.th', 'wb') as f:\n",
    "        f.write(response_finetuned_model.content)\n",
    "\n",
    "    test_accs = torch.load(\"Models/test_accs.th\")\n",
    "    analog_model.load_state_dict(\n",
    "        torch.load(\"Models/finetuned_model_0.9.1.th\", map_location=device)\n",
    "    )\n",
    "    print(f\"Finetuned test acc. {test_step(analog_model, criterion, testloader)}%\")"
   ]
  },
  {
   "cell_type": "code",
   "execution_count": 14,
   "metadata": {
    "colab": {
     "base_uri": "https://localhost:8080/",
     "height": 540
    },
    "id": "Lxm4YHJz-C4T",
    "outputId": "4037e66a-aeb9-4a3b-e691-9d41cc98f9ad"
   },
   "outputs": [
    {
     "data": {
      "image/png": "[encoded data removed]",
      "text/plain": [
       "<Figure size 640x480 with 1 Axes>"
      ]
     },
     "metadata": {},
     "output_type": "display_data"
    }
   ],
   "source": [
    "plt.title(\"Finetunig test accuracy\")\n",
    "plt.plot(test_accs, marker=\"d\", linestyle=\"--\", color=\"b\")\n",
    "plt.ylabel(\"Test acc. (%)\")\n",
    "plt.xlabel(\"Iteration\")\n",
    "plt.show()"
   ]
  },
  {
   "cell_type": "markdown",
   "metadata": {
    "id": "XqTcidHy-C4U"
   },
   "source": [
    "We can also verify that the weights are clipped by looking at one random weight matrix in the network."
   ]
  },
  {
   "cell_type": "code",
   "execution_count": 15,
   "metadata": {
    "colab": {
     "base_uri": "https://localhost:8080/",
     "height": 520
    },
    "id": "RMHdErKQ-C4U",
    "outputId": "5634dc2f-15bb-407c-f9e9-757497359c71"
   },
   "outputs": [
    {
     "data": {
      "image/png": "[encoded data removed]",
      "text/plain": [
       "<Figure size 640x480 with 1 Axes>"
      ]
     },
     "metadata": {},
     "output_type": "display_data"
    }
   ],
   "source": [
    "w, _ = (\n",
    "    analog_model\n",
    "    .layer3[0]\n",
    "    .conv1.analog_module.get_weights(apply_weight_scaling=True)\n",
    ")\n",
    "plt.hist(w.flatten().detach().numpy(), color=\"r\", bins=50)\n",
    "plt.xlabel(\"Unnormalized weight\")\n",
    "plt.ylabel(\"Count\")\n",
    "plt.show()"
   ]
  },
  {
   "cell_type": "markdown",
   "metadata": {
    "id": "jrLKLZNb-C4V"
   },
   "source": [
    "Finally, we would like to see how robust our model is. We first have to convert our pre-trained model to analog.\n",
    "We then repeatedly call `drift_analog_weights` with a time value (in seconds). This simulates the drifting of the weights to the specified time. Note that this call also programs the weights, i.e. it simulates programming by applying specific programming noise. This noise model is defined in the `noise_model` of the RPU config."
   ]
  },
  {
   "cell_type": "code",
   "execution_count": 16,
   "metadata": {
    "colab": {
     "base_uri": "https://localhost:8080/",
     "height": 1000
    },
    "id": "uAF1fy68-C4V",
    "outputId": "c5e5762b-cb7b-4dba-8ff9-a33bdd885468"
   },
   "outputs": [],
   "source": [
    "rpu_conf = gen_rpu_config()\n",
    "converted_model = convert_to_analog(model, rpu_conf)\n",
    "# - For programming the model, we need to put it into eval() mode\n",
    "converted_model = converted_model.eval()\n",
    "#analog_model = analog_model.eval()\n",
    "# - We repeat each measurement 5 times\n",
    "n_rep = 1\n",
    "t_inferences = [60., 3600., 86400., 2592000., 31104000.]\n",
    "drifted_test_accs_baseline = torch.zeros(size=(len(t_inferences),n_rep))\n",
    "converted_model.program_analog_weights(noise_model = rpu_conf.noise_model)\n"
   ]
  },
  {
   "cell_type": "code",
   "execution_count": 19,
   "metadata": {},
   "outputs": [
    {
     "data": {
      "text/plain": [
       "tensor([-0.1376, -0.0720, -0.0465, -0.0819,  0.0241, -0.1537,  0.0271, -0.0298,\n",
       "         0.0135, -0.0142, -0.1135,  0.0273, -0.0206, -0.0125, -0.0610,  0.0179],\n",
       "       device='cuda:0', grad_fn=<SelectBackward0>)"
      ]
     },
     "execution_count": 19,
     "metadata": {},
     "output_type": "execute_result"
    }
   ],
   "source": [
    "model.layer1[0].conv1.weight[:,0,0,0]"
   ]
  },
  {
   "cell_type": "code",
   "execution_count": 22,
   "metadata": {},
   "outputs": [
    {
     "data": {
      "text/plain": [
       "tensor([-0.1410, -0.0706, -0.0592, -0.0731,  0.0262, -0.1532,  0.0320, -0.0309,\n",
       "         0.0129, -0.0056, -0.1123,  0.0440, -0.0249, -0.0134, -0.0654,  0.0238])"
      ]
     },
     "execution_count": 22,
     "metadata": {},
     "output_type": "execute_result"
    }
   ],
   "source": [
    "converted_model.get_weights()['layer1.0.conv1.analog_module'][0][:,0]"
   ]
  },
  {
   "cell_type": "code",
   "execution_count": 18,
   "metadata": {},
   "outputs": [
    {
     "name": "stdout",
     "output_type": "stream",
     "text": [
      "Test loss 0.0286 test acc. 26.62%\n",
      "26.62\n",
      "tensor([-0.0563, -0.0267, -0.0055, -0.0490, -0.0270, -0.0694,  0.0068,  0.0094,\n",
      "         0.0136, -0.0048, -0.0372, -0.0129,  0.0311, -0.0052, -0.0296, -0.0220])\n",
      "Drifted at t:  1.0\n",
      "Test loss 0.0019 test acc. 93.28%\n",
      "tensor(93.2800)\n",
      "tensor([-0.0553, -0.0261, -0.0057, -0.0466, -0.0284, -0.0681,  0.0041,  0.0076,\n",
      "         0.0119, -0.0052, -0.0382, -0.0134,  0.0319, -0.0065, -0.0276, -0.0232])\n",
      "Drifted at t:  10.0\n",
      "Test loss 0.0022 test acc. 92.23%\n",
      "tensor(92.2300)\n",
      "tensor([-0.0571, -0.0267, -0.0075, -0.0477, -0.0290, -0.0679,  0.0056,  0.0075,\n",
      "         0.0114, -0.0024, -0.0368, -0.0116,  0.0313, -0.0071, -0.0291, -0.0234])\n",
      "Drifted at t:  60.0\n",
      "Test loss 0.0032 test acc. 88.71%\n",
      "tensor(88.7100)\n"
     ]
    }
   ],
   "source": [
    "n_rep = 1\n",
    "#t_inferences = [60., 3600., 86400., 2592000., 31104000.]\n",
    "t_inferences = [1., 10., 60.]\n",
    "drifted_test_accs = torch.zeros(size=(len(t_inferences),n_rep))\n",
    "drifted_test_accs_baseline = torch.zeros(size=(len(t_inferences),n_rep))\n",
    "prog = test_step(converted_model, criterion, testloader)\n",
    "print(prog)\n",
    "for i,t in enumerate(t_inferences):\n",
    "    for j in range(n_rep):\n",
    "        analog_model.drift_analog_weights(t)\n",
    "        print(analog_model.get_weights()['layer1.0.conv1.analog_module'][0][:,0])\n",
    "        print(\"Drifted at t: \", t)\n",
    "        drifted_test_accs_baseline[i,j] = test_step(analog_model, criterion, testloader)\n",
    "        print(drifted_test_accs_baseline[i,j])\n"
   ]
  }
 ],
 "metadata": {
  "accelerator": "GPU",
  "colab": {
   "gpuType": "V100",
   "machine_shape": "hm",
   "provenance": []
  },
  "kernelspec": {
   "display_name": "Python 3 (ipykernel)",
   "language": "python",
   "name": "python3"
  },
  "language_info": {
   "codemirror_mode": {
    "name": "ipython",
    "version": 3
   },
   "file_extension": ".py",
   "mimetype": "text/x-python",
   "name": "python",
   "nbconvert_exporter": "python",
   "pygments_lexer": "ipython3",
   "version": "3.10.16"
  }
 },
 "nbformat": 4,
 "nbformat_minor": 4
}
